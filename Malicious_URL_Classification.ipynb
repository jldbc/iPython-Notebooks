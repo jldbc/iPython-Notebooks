{
 "cells": [
  {
   "cell_type": "markdown",
   "metadata": {},
   "source": [
    "# <center> EC3389 - Final Project </center>"
   ]
  },
  {
   "cell_type": "markdown",
   "metadata": {},
   "source": [
    "# Overview:"
   ]
  },
  {
   "cell_type": "markdown",
   "metadata": {},
   "source": [
    "\n",
    "+ <b>Deadline</b> May 17th\n",
    "\n",
    "+ <b>Submission format</b> Preferrably Jupyter notebook sent by e-mail to baisihad@bc.edu\n",
    "\n",
    "+ <b>Task</b> Classification (detect malicious URLs)\n",
    "\n",
    "+ <b>Requirements</b> Explain, fit and evaluate the performance of three estimators. Two covered in class, one new.\n",
    "\n",
    "+ <b>Data size</b> 56,000 observations, 3,231,949 regressors\n",
    "\n"
   ]
  },
  {
   "cell_type": "markdown",
   "metadata": {},
   "source": [
    "### <hr>"
   ]
  },
  {
   "cell_type": "markdown",
   "metadata": {},
   "source": [
    "# Data"
   ]
  },
  {
   "cell_type": "markdown",
   "metadata": {},
   "source": [
    "Source: <a href=\"goo.gl/5LWZmq\">Google Drive</a>"
   ]
  },
  {
   "cell_type": "markdown",
   "metadata": {},
   "source": [
    "Metadata and other information can be found <a href=\"http://sysnet.ucsd.edu/projects/url/\">here</a>, but you will not need to understand what the regressors are to proceed with the project. Also, the original source contains URL data collected over a longer period, but for the project you will should only use the data that was given to you."
   ]
  },
  {
   "cell_type": "markdown",
   "metadata": {},
   "source": [
    "Once you have downloaded the data, put it in the same directory as your ipython notebook and type this to retrieve it."
   ]
  },
  {
   "cell_type": "code",
   "execution_count": 1,
   "metadata": {
    "collapsed": false
   },
   "outputs": [
    {
     "ename": "IOError",
     "evalue": "[Errno 2] No such file or directory: 'X_data'",
     "output_type": "error",
     "traceback": [
      "\u001b[0;31m---------------------------------------------------------------------------\u001b[0m",
      "\u001b[0;31mIOError\u001b[0m                                   Traceback (most recent call last)",
      "\u001b[0;32m<ipython-input-1-9329a071f175>\u001b[0m in \u001b[0;36m<module>\u001b[0;34m()\u001b[0m\n\u001b[1;32m      1\u001b[0m \u001b[0;32mimport\u001b[0m \u001b[0mpickle\u001b[0m\u001b[0;34m\u001b[0m\u001b[0m\n\u001b[0;32m----> 2\u001b[0;31m \u001b[0mX\u001b[0m \u001b[0;34m=\u001b[0m \u001b[0mpickle\u001b[0m\u001b[0;34m.\u001b[0m\u001b[0mload\u001b[0m\u001b[0;34m(\u001b[0m\u001b[0mopen\u001b[0m\u001b[0;34m(\u001b[0m\u001b[0;34m\"X_data\"\u001b[0m\u001b[0;34m,\u001b[0m \u001b[0;34m\"rb\"\u001b[0m\u001b[0;34m)\u001b[0m\u001b[0;34m)\u001b[0m \u001b[0;31m# X_data and y_data should be in the same directory as you notebook.\u001b[0m\u001b[0;34m\u001b[0m\u001b[0m\n\u001b[0m\u001b[1;32m      3\u001b[0m \u001b[0my\u001b[0m \u001b[0;34m=\u001b[0m \u001b[0mpickle\u001b[0m\u001b[0;34m.\u001b[0m\u001b[0mload\u001b[0m\u001b[0;34m(\u001b[0m\u001b[0mopen\u001b[0m\u001b[0;34m(\u001b[0m\u001b[0;34m\"y_data\"\u001b[0m\u001b[0;34m,\u001b[0m \u001b[0;34m\"rb\"\u001b[0m\u001b[0;34m)\u001b[0m\u001b[0;34m)\u001b[0m\u001b[0;34m\u001b[0m\u001b[0m\n",
      "\u001b[0;31mIOError\u001b[0m: [Errno 2] No such file or directory: 'X_data'"
     ]
    }
   ],
   "source": [
    "import pickle\n",
    "X = pickle.load(open(\"X_data\", \"rb\")) # X_data and y_data should be in the same directory as you notebook.\n",
    "y = pickle.load(open(\"y_data\", \"rb\"))"
   ]
  },
  {
   "cell_type": "markdown",
   "metadata": {},
   "source": [
    "Note the regressors are stored in a <a href=\"http://docs.scipy.org/doc/scipy/reference/sparse.html\">sparse</a> array, for better memory management. Scikit-learn algorithms should play nice with sparse arrays. Should there really be necessary, you can densify a sparse array <font face=\"Courier\">A</font> by typing:\n",
    "<br><br>\n",
    "<center><font face=\"Courier\">B = A.todense()</font> </center>\n",
    "\n",
    "However, do *not* try to densify the whole array at once: chances are your kernel will die. "
   ]
  },
  {
   "cell_type": "markdown",
   "metadata": {},
   "source": [
    "<hr>"
   ]
  },
  {
   "cell_type": "markdown",
   "metadata": {},
   "source": [
    "# Objectives"
   ]
  },
  {
   "cell_type": "markdown",
   "metadata": {},
   "source": [
    "The problem is straightforward: you must predict whether the URL is malicious or not using at least *three* different machine learning algorithms, and compare their performance using a suitable measure. \n",
    "\n",
    "Of these three algorithms, two should belong to the ones that we have seen in class, while the third must be a new algorithm. You are welcome to consult our own textbook for algorithms that we could not cover (e.g., SVMs), other textbooks (see references in our <a href=\"https://github.com/vitorhadad/EC3389/blob/master/EC3389%20-%20Syllabus.pdf\">Syllabus</a>), the scikit-learn <a href=\"http://scikit-learn.org/stable/documentation.html\">documentation</a>, or any <a href=\"https://www.tensorflow.org/versions/r0.8/tutorials/index.html\">other tool</a> that might have piqued your interested during the semester. \n",
    "\n",
    "Your project should contain an explanations of how each algorithm works, spanning two or three paragraphs each. Make sure to use *your own words*, but be concise and as mathematically precise as you can. Also, for your own intellectual enrichment, you may write a little longer for the new algorithm. Remember to explain the reason for discrepancies in estimators' performance levels (or the reason for lack thereof)."
   ]
  },
  {
   "cell_type": "markdown",
   "metadata": {},
   "source": [
    "<hr>"
   ]
  },
  {
   "cell_type": "markdown",
   "metadata": {},
   "source": [
    "# Grading"
   ]
  },
  {
   "cell_type": "markdown",
   "metadata": {},
   "source": [
    "Submissions will be judged by, in descending order of importance: \n",
    "\n",
    "+ Methodology: correct use of algorithms and model evaluation techniques.\n",
    "\n",
    "+ Clarity: Succint, formal and correct explanations.\n",
    "\n",
    "+ Estimator performance: relative to other students."
   ]
  },
  {
   "cell_type": "markdown",
   "metadata": {},
   "source": [
    "<hr>"
   ]
  },
  {
   "cell_type": "markdown",
   "metadata": {},
   "source": [
    "# Format"
   ]
  },
  {
   "cell_type": "markdown",
   "metadata": {},
   "source": [
    "The best format to submit the project would probably be as an Jupyter notebook. However, you may write in pure $\\LaTeX$-compiled pdf or use your favorite word processor if you wish to do it, but if that is the case submit a separate python (.py) file containing your code. Handwritten notes are obviously *not* acceptable.\n",
    "\n",
    "If you are handing in a notebook, please remember to tidy it up before submitting. For example, write your observations and conclusion in a Markdown cell, insert additional figures using HTML, clearly separate your sections, and if possible use $\\LaTeX$ to write formulas. Except for the (minimal) presence of the code, everything should read as a term paper."
   ]
  }
 ],
 "metadata": {
  "kernelspec": {
   "display_name": "Python 2",
   "language": "python",
   "name": "python2"
  },
  "language_info": {
   "codemirror_mode": {
    "name": "ipython",
    "version": 2
   },
   "file_extension": ".py",
   "mimetype": "text/x-python",
   "name": "python",
   "nbconvert_exporter": "python",
   "pygments_lexer": "ipython2",
   "version": "2.7.9"
  }
 },
 "nbformat": 4,
 "nbformat_minor": 0
}
