{
 "cells": [
  {
   "cell_type": "code",
   "execution_count": 156,
   "metadata": {
    "collapsed": true
   },
   "outputs": [],
   "source": [
    "import pandas as pd\n",
    "import numpy as np\n",
    "from sklearn import *\n",
    "import matplotlib.pyplot as plt\n",
    "%matplotlib inline"
   ]
  },
  {
   "cell_type": "markdown",
   "metadata": {},
   "source": [
    "## First load, shape and merge the data"
   ]
  },
  {
   "cell_type": "code",
   "execution_count": 217,
   "metadata": {
    "collapsed": false,
    "scrolled": false
   },
   "outputs": [],
   "source": [
    "#load data\n",
    "filename1 = '/Users/jamesledoux/Documents/USElection-master/data/2004-pres-polls.csv'\n",
    "filename2 = '/Users/jamesledoux/Documents/USElection-master/data/2008-pres-polls.csv'\n",
    "filename3 = '/Users/jamesledoux/Documents/USElection-master/data/2012-pres-polls.csv'\n",
    "filename4 = '/Users/jamesledoux/Documents/USElection-master/data/electoral-college-votes.csv'\n",
    "filename5 = '/Users/jamesledoux/Documents/USElection-master/data/state-abbreviations.csv'\n",
    "\n",
    "df04 = pd.read_csv(filename1)\n",
    "df08 = pd.read_csv(filename2)\n",
    "df12 = pd.read_csv(filename3)\n",
    "electoral_college = pd.read_csv(filename4,names=['State', 'Votes'])\n",
    "state_abbreviations = pd.read_csv(filename5,names=['State', 'Abbrev'])\n",
    "#see format\n",
    "#print df12.head()\n",
    "#print electoral_college.head()"
   ]
  },
  {
   "cell_type": "code",
   "execution_count": 218,
   "metadata": {
    "collapsed": false
   },
   "outputs": [],
   "source": [
    "#fix state names for later merging\n",
    "df04 = pd.merge(df04, state_abbreviations, left_on = 'State', right_on = 'Abbrev')\n",
    "df08 = pd.merge(df08, state_abbreviations, left_on = 'State', right_on = 'Abbrev')\n",
    "df04 = df04.drop('State_x',1)\n",
    "df08 = df08.drop('State_x',1)\n",
    "df04.columns = ['Kerry', 'Bush', 'Date', 'Pollster', 'State', 'Abbrev']\n",
    "df08.columns = ['Obama', 'McCain', 'Date', 'Pollster', 'State', 'Abbrev']\n",
    "\n",
    "#merge in electoral college info\n",
    "df04 = pd.merge(df04, electoral_college, left_on = 'State', right_on = 'State')\n",
    "df08 = pd.merge(df08, electoral_college, left_on = 'State', right_on = 'State')\n",
    "df12 = pd.merge(df12, electoral_college, left_on = 'State', right_on = 'State')"
   ]
  },
  {
   "cell_type": "code",
   "execution_count": 219,
   "metadata": {
    "collapsed": false
   },
   "outputs": [],
   "source": [
    "#df12.head()"
   ]
  },
  {
   "cell_type": "code",
   "execution_count": 220,
   "metadata": {
    "collapsed": false
   },
   "outputs": [],
   "source": [
    "#take a simple average for each state\n",
    "df04a = df04.groupby('State').mean()\n",
    "df08a = df08.groupby('State').mean()\n",
    "df12a = df12.groupby('State').mean()"
   ]
  },
  {
   "cell_type": "code",
   "execution_count": 221,
   "metadata": {
    "collapsed": false
   },
   "outputs": [],
   "source": [
    "#see what this means for a prediction \n",
    "df04a['DemVotes'] = 0\n",
    "df04a['GOPVotes'] = 0\n",
    "df08a['DemVotes'] = 0\n",
    "df08a['GOPVotes'] = 0\n",
    "df12a['DemVotes'] = 0\n",
    "df12a['GOPVotes'] = 0\n",
    "\n",
    "df04a['DemVotes'] = np.where(df04a['Kerry'] > df04a['Bush'], df04a['Votes'], 0)\n",
    "df04a['GOPVotes'] = np.where(df04a['Kerry'] < df04a['Bush'], df04a['Votes'], 0)\n",
    "df08a['DemVotes'] = np.where(df08a['Obama'] > df08a['McCain'], df08a['Votes'], 0)\n",
    "df08a['GOPVotes'] = np.where(df08a['Obama'] < df08a['McCain'], df08a['Votes'], 0)\n",
    "df12a['DemVotes'] = np.where(df12a['Dem'] > df12a['GOP'], df12a['Votes'], 0)\n",
    "df12a['GOPVotes'] = np.where(df12a['Dem'] < df12a['GOP'], df12a['Votes'], 0)"
   ]
  },
  {
   "cell_type": "markdown",
   "metadata": {},
   "source": [
    "## Assign electoral votes based on polling averages, and sum these up for a basic election prediction"
   ]
  },
  {
   "cell_type": "code",
   "execution_count": 222,
   "metadata": {
    "collapsed": true
   },
   "outputs": [],
   "source": [
    "dems04 = df04a['DemVotes'].sum()\n",
    "GOP04 = df04a['GOPVotes'].sum()\n",
    "dems08 = df08a['DemVotes'].sum()\n",
    "GOP08 = df08a['GOPVotes'].sum()\n",
    "dems12 = df12a['DemVotes'].sum()\n",
    "GOP12 = df12a['GOPVotes'].sum()"
   ]
  },
  {
   "cell_type": "code",
   "execution_count": 223,
   "metadata": {
    "collapsed": false,
    "scrolled": true
   },
   "outputs": [
    {
     "name": "stdout",
     "output_type": "stream",
     "text": [
      "2004 dems: 247.0  republicans: 291.0\n",
      "2008 dems: 303.0  republicans: 235.0\n",
      "2012 dems: 332.0  republicans: 206.0\n"
     ]
    }
   ],
   "source": [
    "print \"2004 dems: \" + str(dems04) + \"  republicans: \" + str(GOP04)\n",
    "print \"2008 dems: \" + str(dems08) + \"  republicans: \" + str(GOP08)\n",
    "print \"2012 dems: \" + str(dems12) + \"  republicans: \" + str(GOP12)\n",
    "\n"
   ]
  },
  {
   "cell_type": "markdown",
   "metadata": {},
   "source": [
    "Results align with reality, so this basic model seems okay. However, this takes all polling into account, so this would not be a feasible predictive model at an earlier point in the election cycle. Let's see how well this same strategy works in a more realistic time-series approach. "
   ]
  },
  {
   "cell_type": "markdown",
   "metadata": {},
   "source": [
    "# Time Series\n",
    "Let's turn this into something more realistic. First we need to turn the polls' dates into datetime types in order to calculate election odds at specific points in time. Then we can look at running predictions and see how those change over time."
   ]
  },
  {
   "cell_type": "code",
   "execution_count": 224,
   "metadata": {
    "collapsed": false
   },
   "outputs": [],
   "source": [
    "df04['Date'] = pd.to_datetime(df04['Date'], format='%b %d')"
   ]
  },
  {
   "cell_type": "code",
   "execution_count": 225,
   "metadata": {
    "collapsed": true
   },
   "outputs": [],
   "source": [
    "#break this into slices of times <= month M for M in 1, ..., 12.\n",
    "#predict per month, add prediction to a data frame of predicted R and D electoral votes by month\n",
    "#plot"
   ]
  },
  {
   "cell_type": "code",
   "execution_count": 226,
   "metadata": {
    "collapsed": true
   },
   "outputs": [],
   "source": [
    "df04b = df04[df04['Date'] < '1900-6-04 00:00:00']"
   ]
  },
  {
   "cell_type": "code",
   "execution_count": 227,
   "metadata": {
    "collapsed": false,
    "scrolled": true
   },
   "outputs": [
    {
     "name": "stdout",
     "output_type": "stream",
     "text": [
      "(13, 3)\n",
      "(42, 3)\n",
      "(43, 3)\n",
      "(44, 3)\n",
      "(50, 3)\n",
      "(51, 3)\n",
      "(51, 3)\n"
     ]
    }
   ],
   "source": [
    "months = ['May', 'June', 'July', 'August', 'September', 'October', 'November']\n",
    "ds = []\n",
    "rs = []\n",
    "for i in range(len(months)):\n",
    "    datestring = '1900-' + str(i+5) + '-15 00:00:00'\n",
    "    #datestring = '1900-15-' + str(i+5) + ' 00:00:00'\n",
    "    df04b = df04[df04['Date'] < datestring]   #df of all polls prior to this date\n",
    "    df04b = df04b.groupby('State').mean()  #get mean by state\n",
    "    print df04b.shape\n",
    "    #assign all R and D votes to highest polling candidate by state \n",
    "    df04b['DemVotes'] = 0\n",
    "    df04b['GOPVotes'] = 0\n",
    "    df04b['DemVotes'] = np.where(df04b['Kerry'] > df04b['Bush'], df04b['Votes'], 0)\n",
    "    df04b['GOPVotes'] = np.where(df04b['Kerry'] < df04b['Bush'], df04b['Votes'], 0)\n",
    "    ds.append(df04b['DemVotes'].sum())  #sum total predicted dem and republican votes\n",
    "    rs.append(df04b['GOPVotes'].sum())   "
   ]
  },
  {
   "cell_type": "code",
   "execution_count": 228,
   "metadata": {
    "collapsed": false,
    "scrolled": true
   },
   "outputs": [
    {
     "data": {
      "text/plain": [
       "([<matplotlib.axis.XTick at 0x108aac410>,\n",
       "  <matplotlib.axis.XTick at 0x10b862290>,\n",
       "  <matplotlib.axis.XTick at 0x10b9cf850>,\n",
       "  <matplotlib.axis.XTick at 0x10b9dca50>,\n",
       "  <matplotlib.axis.XTick at 0x10b9e81d0>,\n",
       "  <matplotlib.axis.XTick at 0x10b9e8910>,\n",
       "  <matplotlib.axis.XTick at 0x10b9f2090>],\n",
       " <a list of 7 Text xticklabel objects>)"
      ]
     },
     "execution_count": 228,
     "metadata": {},
     "output_type": "execute_result"
    },
    {
     "data": {
      "image/png": "[encoded data removed]",
      "text/plain": [
       "<matplotlib.figure.Figure at 0x10b80f850>"
      ]
     },
     "metadata": {},
     "output_type": "display_data"
    }
   ],
   "source": [
    "x= [0,1,2,3,4,5,6]\n",
    "plt.plot(x, ds)\n",
    "plt.plot(x, rs)\n",
    "plt.xticks(x, months)"
   ]
  },
  {
   "cell_type": "markdown",
   "metadata": {},
   "source": [
    "# Same thing, but looking into 2008"
   ]
  },
  {
   "cell_type": "code",
   "execution_count": 229,
   "metadata": {
    "collapsed": true
   },
   "outputs": [],
   "source": [
    "df08['Date'] = pd.to_datetime(df08['Date'], format='%b %d')"
   ]
  },
  {
   "cell_type": "code",
   "execution_count": 252,
   "metadata": {
    "collapsed": false
   },
   "outputs": [],
   "source": [
    "months = ['Feb', 'March', 'April', 'May', 'June', 'July', 'August', 'September', 'October', 'November']\n",
    "ds = []\n",
    "rs = []\n",
    "for i in range(len(months)):\n",
    "    if (i+5) < 10:  #formatting\n",
    "        datestring = '1900-0' + str(i+2) + '-15 00:00:00'\n",
    "    else:\n",
    "        datestring = '1900-' + str(i+2) + '-15 00:00:00'\n",
    "    #datestring = '1900-15-' + str(i+5) + ' 00:00:00'\n",
    "    df08b = df08[df08['Date'] < datestring]   #df of all polls prior to this date\n",
    "    df08b = df08b.groupby('State').mean()  #get mean by state\n",
    "    #assign all R and D votes to highest polling candidate by state \n",
    "    df08b['DemVotes'] = 0\n",
    "    df08b['GOPVotes'] = 0\n",
    "    df08b['DemVotes'] = np.where(df08b['Obama'] > df08b['McCain'], df08b['Votes'], 0)\n",
    "    df08b['GOPVotes'] = np.where(df08b['Obama'] < df08b['McCain'], df08b['Votes'], 0)\n",
    "    ds.append(df08b['DemVotes'].sum())  #sum total predicted dem and republican votes\n",
    "    rs.append(df08b['GOPVotes'].sum())   "
   ]
  },
  {
   "cell_type": "code",
   "execution_count": 253,
   "metadata": {
    "collapsed": false
   },
   "outputs": [
    {
     "data": {
      "text/plain": [
       "([<matplotlib.axis.XTick at 0x10c3cea10>,\n",
       "  <matplotlib.axis.XTick at 0x10c3ce790>,\n",
       "  <matplotlib.axis.XTick at 0x10b009cd0>,\n",
       "  <matplotlib.axis.XTick at 0x10a6a4e50>,\n",
       "  <matplotlib.axis.XTick at 0x10a6a4650>,\n",
       "  <matplotlib.axis.XTick at 0x10b0ece10>,\n",
       "  <matplotlib.axis.XTick at 0x10a62e5d0>,\n",
       "  <matplotlib.axis.XTick at 0x10a6bb910>,\n",
       "  <matplotlib.axis.XTick at 0x10a6bbc50>,\n",
       "  <matplotlib.axis.XTick at 0x108d78810>],\n",
       " <a list of 10 Text xticklabel objects>)"
      ]
     },
     "execution_count": 253,
     "metadata": {},
     "output_type": "execute_result"
    },
    {
     "data": {
      "image/png": "[encoded data removed]",
      "text/plain": [
       "<matplotlib.figure.Figure at 0x10c4d43d0>"
      ]
     },
     "metadata": {},
     "output_type": "display_data"
    }
   ],
   "source": [
    "x= [0,1,2,3,4,5,6,7,8,9]\n",
    "plt.plot(x, ds)\n",
    "plt.plot(x, rs)\n",
    "plt.xticks(x, months)"
   ]
  },
  {
   "cell_type": "code",
   "execution_count": 232,
   "metadata": {
    "collapsed": true
   },
   "outputs": [],
   "source": [
    "df12['Date'] = df12['Date'].str.replace('-', ' ')"
   ]
  },
  {
   "cell_type": "code",
   "execution_count": 234,
   "metadata": {
    "collapsed": false,
    "scrolled": true
   },
   "outputs": [],
   "source": [
    "df12['Date'] = pd.to_datetime(df12['Date'], format='%b %d')"
   ]
  },
  {
   "cell_type": "code",
   "execution_count": 254,
   "metadata": {
    "collapsed": false
   },
   "outputs": [],
   "source": [
    "months = ['Jan', 'Feb', 'March', 'April', 'May', 'June', 'July', 'August', 'September', 'October', 'November']\n",
    "ds = []\n",
    "rs = []\n",
    "for i in range(len(months)):\n",
    "    if (i+5) < 10:  #formatting\n",
    "        datestring = '1900-0' + str(i+1) + '-15 00:00:00'\n",
    "    else:\n",
    "        datestring = '1900-' + str(i+1) + '-15 00:00:00'\n",
    "    #datestring = '1900-15-' + str(i+5) + ' 00:00:00'\n",
    "    df12b = df12[df12['Date'] < datestring]   #df of all polls prior to this date\n",
    "    #print df12b.shape\n",
    "    df12b = df12b.groupby('State').mean()  #get mean by state\n",
    "    #assign all R and D votes to highest polling candidate by state \n",
    "    df12b['DemVotes'] = 0\n",
    "    df12b['GOPVotes'] = 0\n",
    "    df12b['DemVotes'] = np.where(df12b['Dem'] > df12b['GOP'], df12b['Votes'], 0)\n",
    "    df12b['GOPVotes'] = np.where(df12b['Dem'] < df12b['GOP'], df12b['Votes'], 0)\n",
    "    ds.append(df12b['DemVotes'].sum())  #sum total predicted dem and republican votes\n",
    "    rs.append(df12b['GOPVotes'].sum())\n",
    "    #print ds"
   ]
  },
  {
   "cell_type": "code",
   "execution_count": 255,
   "metadata": {
    "collapsed": false
   },
   "outputs": [
    {
     "data": {
      "text/plain": [
       "([<matplotlib.axis.XTick at 0x10c4a68d0>,\n",
       "  <matplotlib.axis.XTick at 0x10c4fc190>,\n",
       "  <matplotlib.axis.XTick at 0x10b088750>,\n",
       "  <matplotlib.axis.XTick at 0x10b092950>,\n",
       "  <matplotlib.axis.XTick at 0x10b09b0d0>,\n",
       "  <matplotlib.axis.XTick at 0x10b09b810>,\n",
       "  <matplotlib.axis.XTick at 0x10b09bf50>,\n",
       "  <matplotlib.axis.XTick at 0x10b0a76d0>,\n",
       "  <matplotlib.axis.XTick at 0x10b0a7e10>,\n",
       "  <matplotlib.axis.XTick at 0x10b0af590>,\n",
       "  <matplotlib.axis.XTick at 0x10b0afcd0>],\n",
       " <a list of 11 Text xticklabel objects>)"
      ]
     },
     "execution_count": 255,
     "metadata": {},
     "output_type": "execute_result"
    },
    {
     "data": {
      "image/png": "[encoded data removed]",
      "text/plain": [
       "<matplotlib.figure.Figure at 0x10a6a4c10>"
      ]
     },
     "metadata": {},
     "output_type": "display_data"
    }
   ],
   "source": [
    "x= [0,1,2,3,4,5,6, 7,8,9,10]\n",
    "plt.plot(x, ds)\n",
    "plt.plot(x, rs)\n",
    "plt.xticks(x, months)"
   ]
  },
  {
   "cell_type": "markdown",
   "metadata": {},
   "source": [
    "## Improving the Model\n",
    "This was a dumb model, but it showed some promise. Let's try a few things to improve the model. \n",
    "\n",
    "A few strategies to try:\n",
    "\n",
    "* Decaying importance of older polls in favor of newer ones \n",
    "* Defaulting states to their historical party preference for dates prior to their first poll that we have on record"
   ]
  },
  {
   "cell_type": "code",
   "execution_count": null,
   "metadata": {
    "collapsed": true
   },
   "outputs": [],
   "source": []
  }
 ],
 "metadata": {
  "kernelspec": {
   "display_name": "Python 2",
   "language": "python",
   "name": "python2"
  },
  "language_info": {
   "codemirror_mode": {
    "name": "ipython",
    "version": 2
   },
   "file_extension": ".py",
   "mimetype": "text/x-python",
   "name": "python",
   "nbconvert_exporter": "python",
   "pygments_lexer": "ipython2",
   "version": "2.7.9"
  }
 },
 "nbformat": 4,
 "nbformat_minor": 0
}
